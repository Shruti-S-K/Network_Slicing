{
  "nbformat": 4,
  "nbformat_minor": 0,
  "metadata": {
    "colab": {
      "name": "Network Slicing Optimization.ipynb",
      "provenance": [],
      "collapsed_sections": []
    },
    "kernelspec": {
      "name": "python3",
      "display_name": "Python 3"
    },
    "language_info": {
      "name": "python"
    }
  },
  "cells": [
    {
      "cell_type": "markdown",
      "source": [
        "# **Loading important libraries and the dataset**"
      ],
      "metadata": {
        "id": "07CkzT0Ocxda"
      }
    },
    {
      "cell_type": "code",
      "execution_count": 1,
      "metadata": {
        "id": "KwtiORAe_YyX"
      },
      "outputs": [],
      "source": [
        "import pandas as pd\n",
        "import numpy as np\n",
        "import matplotlib.pyplot as plt\n",
        "import seaborn as sns\n",
        "from scipy.stats import skew, kurtosis"
      ]
    },
    {
      "cell_type": "code",
      "source": [
        "dset = pd.read_csv('/content/train_dataset.csv')\n",
        "dset.head()"
      ],
      "metadata": {
        "colab": {
          "base_uri": "https://localhost:8080/",
          "height": 322
        },
        "id": "3FSUw5-CChY2",
        "outputId": "78e3aa14-5c4c-416e-bfa2-e707b80d9012"
      },
      "execution_count": 2,
      "outputs": [
        {
          "output_type": "execute_result",
          "data": {
            "text/plain": [
              "   LTE/5g Category  Time  Packet Loss Rate  Packet delay  IoT  LTE/5G  GBR  \\\n",
              "0               14     0          0.000001            10    1       0    0   \n",
              "1               18    20          0.001000           100    0       1    1   \n",
              "2               17    14          0.000001           300    0       1    0   \n",
              "3                3    17          0.010000           100    0       1    0   \n",
              "4                9     4          0.010000            50    1       0    0   \n",
              "\n",
              "   Non-GBR  AR/VR/Gaming  Healthcare  Industry 4.0  IoT Devices  \\\n",
              "0        1             0           0             0            0   \n",
              "1        0             1           0             0            0   \n",
              "2        1             0           0             0            0   \n",
              "3        1             0           0             0            0   \n",
              "4        1             0           0             0            0   \n",
              "\n",
              "   Public Safety  Smart City & Home  Smart Transportation  Smartphone  \\\n",
              "0              1                  0                     0           0   \n",
              "1              0                  0                     0           0   \n",
              "2              0                  0                     0           1   \n",
              "3              0                  0                     0           1   \n",
              "4              0                  1                     0           0   \n",
              "\n",
              "   slice Type  \n",
              "0           3  \n",
              "1           1  \n",
              "2           1  \n",
              "3           1  \n",
              "4           2  "
            ],
            "text/html": [
              "\n",
              "  <div id=\"df-d405fe1b-1b3b-4f05-9009-661618432ce5\">\n",
              "    <div class=\"colab-df-container\">\n",
              "      <div>\n",
              "<style scoped>\n",
              "    .dataframe tbody tr th:only-of-type {\n",
              "        vertical-align: middle;\n",
              "    }\n",
              "\n",
              "    .dataframe tbody tr th {\n",
              "        vertical-align: top;\n",
              "    }\n",
              "\n",
              "    .dataframe thead th {\n",
              "        text-align: right;\n",
              "    }\n",
              "</style>\n",
              "<table border=\"1\" class=\"dataframe\">\n",
              "  <thead>\n",
              "    <tr style=\"text-align: right;\">\n",
              "      <th></th>\n",
              "      <th>LTE/5g Category</th>\n",
              "      <th>Time</th>\n",
              "      <th>Packet Loss Rate</th>\n",
              "      <th>Packet delay</th>\n",
              "      <th>IoT</th>\n",
              "      <th>LTE/5G</th>\n",
              "      <th>GBR</th>\n",
              "      <th>Non-GBR</th>\n",
              "      <th>AR/VR/Gaming</th>\n",
              "      <th>Healthcare</th>\n",
              "      <th>Industry 4.0</th>\n",
              "      <th>IoT Devices</th>\n",
              "      <th>Public Safety</th>\n",
              "      <th>Smart City &amp; Home</th>\n",
              "      <th>Smart Transportation</th>\n",
              "      <th>Smartphone</th>\n",
              "      <th>slice Type</th>\n",
              "    </tr>\n",
              "  </thead>\n",
              "  <tbody>\n",
              "    <tr>\n",
              "      <th>0</th>\n",
              "      <td>14</td>\n",
              "      <td>0</td>\n",
              "      <td>0.000001</td>\n",
              "      <td>10</td>\n",
              "      <td>1</td>\n",
              "      <td>0</td>\n",
              "      <td>0</td>\n",
              "      <td>1</td>\n",
              "      <td>0</td>\n",
              "      <td>0</td>\n",
              "      <td>0</td>\n",
              "      <td>0</td>\n",
              "      <td>1</td>\n",
              "      <td>0</td>\n",
              "      <td>0</td>\n",
              "      <td>0</td>\n",
              "      <td>3</td>\n",
              "    </tr>\n",
              "    <tr>\n",
              "      <th>1</th>\n",
              "      <td>18</td>\n",
              "      <td>20</td>\n",
              "      <td>0.001000</td>\n",
              "      <td>100</td>\n",
              "      <td>0</td>\n",
              "      <td>1</td>\n",
              "      <td>1</td>\n",
              "      <td>0</td>\n",
              "      <td>1</td>\n",
              "      <td>0</td>\n",
              "      <td>0</td>\n",
              "      <td>0</td>\n",
              "      <td>0</td>\n",
              "      <td>0</td>\n",
              "      <td>0</td>\n",
              "      <td>0</td>\n",
              "      <td>1</td>\n",
              "    </tr>\n",
              "    <tr>\n",
              "      <th>2</th>\n",
              "      <td>17</td>\n",
              "      <td>14</td>\n",
              "      <td>0.000001</td>\n",
              "      <td>300</td>\n",
              "      <td>0</td>\n",
              "      <td>1</td>\n",
              "      <td>0</td>\n",
              "      <td>1</td>\n",
              "      <td>0</td>\n",
              "      <td>0</td>\n",
              "      <td>0</td>\n",
              "      <td>0</td>\n",
              "      <td>0</td>\n",
              "      <td>0</td>\n",
              "      <td>0</td>\n",
              "      <td>1</td>\n",
              "      <td>1</td>\n",
              "    </tr>\n",
              "    <tr>\n",
              "      <th>3</th>\n",
              "      <td>3</td>\n",
              "      <td>17</td>\n",
              "      <td>0.010000</td>\n",
              "      <td>100</td>\n",
              "      <td>0</td>\n",
              "      <td>1</td>\n",
              "      <td>0</td>\n",
              "      <td>1</td>\n",
              "      <td>0</td>\n",
              "      <td>0</td>\n",
              "      <td>0</td>\n",
              "      <td>0</td>\n",
              "      <td>0</td>\n",
              "      <td>0</td>\n",
              "      <td>0</td>\n",
              "      <td>1</td>\n",
              "      <td>1</td>\n",
              "    </tr>\n",
              "    <tr>\n",
              "      <th>4</th>\n",
              "      <td>9</td>\n",
              "      <td>4</td>\n",
              "      <td>0.010000</td>\n",
              "      <td>50</td>\n",
              "      <td>1</td>\n",
              "      <td>0</td>\n",
              "      <td>0</td>\n",
              "      <td>1</td>\n",
              "      <td>0</td>\n",
              "      <td>0</td>\n",
              "      <td>0</td>\n",
              "      <td>0</td>\n",
              "      <td>0</td>\n",
              "      <td>1</td>\n",
              "      <td>0</td>\n",
              "      <td>0</td>\n",
              "      <td>2</td>\n",
              "    </tr>\n",
              "  </tbody>\n",
              "</table>\n",
              "</div>\n",
              "      <button class=\"colab-df-convert\" onclick=\"convertToInteractive('df-d405fe1b-1b3b-4f05-9009-661618432ce5')\"\n",
              "              title=\"Convert this dataframe to an interactive table.\"\n",
              "              style=\"display:none;\">\n",
              "        \n",
              "  <svg xmlns=\"http://www.w3.org/2000/svg\" height=\"24px\"viewBox=\"0 0 24 24\"\n",
              "       width=\"24px\">\n",
              "    <path d=\"M0 0h24v24H0V0z\" fill=\"none\"/>\n",
              "    <path d=\"M18.56 5.44l.94 2.06.94-2.06 2.06-.94-2.06-.94-.94-2.06-.94 2.06-2.06.94zm-11 1L8.5 8.5l.94-2.06 2.06-.94-2.06-.94L8.5 2.5l-.94 2.06-2.06.94zm10 10l.94 2.06.94-2.06 2.06-.94-2.06-.94-.94-2.06-.94 2.06-2.06.94z\"/><path d=\"M17.41 7.96l-1.37-1.37c-.4-.4-.92-.59-1.43-.59-.52 0-1.04.2-1.43.59L10.3 9.45l-7.72 7.72c-.78.78-.78 2.05 0 2.83L4 21.41c.39.39.9.59 1.41.59.51 0 1.02-.2 1.41-.59l7.78-7.78 2.81-2.81c.8-.78.8-2.07 0-2.86zM5.41 20L4 18.59l7.72-7.72 1.47 1.35L5.41 20z\"/>\n",
              "  </svg>\n",
              "      </button>\n",
              "      \n",
              "  <style>\n",
              "    .colab-df-container {\n",
              "      display:flex;\n",
              "      flex-wrap:wrap;\n",
              "      gap: 12px;\n",
              "    }\n",
              "\n",
              "    .colab-df-convert {\n",
              "      background-color: #E8F0FE;\n",
              "      border: none;\n",
              "      border-radius: 50%;\n",
              "      cursor: pointer;\n",
              "      display: none;\n",
              "      fill: #1967D2;\n",
              "      height: 32px;\n",
              "      padding: 0 0 0 0;\n",
              "      width: 32px;\n",
              "    }\n",
              "\n",
              "    .colab-df-convert:hover {\n",
              "      background-color: #E2EBFA;\n",
              "      box-shadow: 0px 1px 2px rgba(60, 64, 67, 0.3), 0px 1px 3px 1px rgba(60, 64, 67, 0.15);\n",
              "      fill: #174EA6;\n",
              "    }\n",
              "\n",
              "    [theme=dark] .colab-df-convert {\n",
              "      background-color: #3B4455;\n",
              "      fill: #D2E3FC;\n",
              "    }\n",
              "\n",
              "    [theme=dark] .colab-df-convert:hover {\n",
              "      background-color: #434B5C;\n",
              "      box-shadow: 0px 1px 3px 1px rgba(0, 0, 0, 0.15);\n",
              "      filter: drop-shadow(0px 1px 2px rgba(0, 0, 0, 0.3));\n",
              "      fill: #FFFFFF;\n",
              "    }\n",
              "  </style>\n",
              "\n",
              "      <script>\n",
              "        const buttonEl =\n",
              "          document.querySelector('#df-d405fe1b-1b3b-4f05-9009-661618432ce5 button.colab-df-convert');\n",
              "        buttonEl.style.display =\n",
              "          google.colab.kernel.accessAllowed ? 'block' : 'none';\n",
              "\n",
              "        async function convertToInteractive(key) {\n",
              "          const element = document.querySelector('#df-d405fe1b-1b3b-4f05-9009-661618432ce5');\n",
              "          const dataTable =\n",
              "            await google.colab.kernel.invokeFunction('convertToInteractive',\n",
              "                                                     [key], {});\n",
              "          if (!dataTable) return;\n",
              "\n",
              "          const docLinkHtml = 'Like what you see? Visit the ' +\n",
              "            '<a target=\"_blank\" href=https://colab.research.google.com/notebooks/data_table.ipynb>data table notebook</a>'\n",
              "            + ' to learn more about interactive tables.';\n",
              "          element.innerHTML = '';\n",
              "          dataTable['output_type'] = 'display_data';\n",
              "          await google.colab.output.renderOutput(dataTable, element);\n",
              "          const docLink = document.createElement('div');\n",
              "          docLink.innerHTML = docLinkHtml;\n",
              "          element.appendChild(docLink);\n",
              "        }\n",
              "      </script>\n",
              "    </div>\n",
              "  </div>\n",
              "  "
            ]
          },
          "metadata": {},
          "execution_count": 2
        }
      ]
    },
    {
      "cell_type": "markdown",
      "source": [
        "# **Exploratory Data Analysis**"
      ],
      "metadata": {
        "id": "s79_uT51crfF"
      }
    },
    {
      "cell_type": "code",
      "source": [
        "dset.shape"
      ],
      "metadata": {
        "colab": {
          "base_uri": "https://localhost:8080/"
        },
        "id": "nmb4I-FoCsxr",
        "outputId": "489e8645-09f2-41dc-e6b2-78fe311c2356"
      },
      "execution_count": 3,
      "outputs": [
        {
          "output_type": "execute_result",
          "data": {
            "text/plain": [
              "(31583, 17)"
            ]
          },
          "metadata": {},
          "execution_count": 3
        }
      ]
    },
    {
      "cell_type": "code",
      "source": [
        "dset.info()"
      ],
      "metadata": {
        "colab": {
          "base_uri": "https://localhost:8080/"
        },
        "id": "x57bdw9ACuQp",
        "outputId": "a4cb0940-59d2-42ed-e508-9f5b070dae96"
      },
      "execution_count": 4,
      "outputs": [
        {
          "output_type": "stream",
          "name": "stdout",
          "text": [
            "<class 'pandas.core.frame.DataFrame'>\n",
            "RangeIndex: 31583 entries, 0 to 31582\n",
            "Data columns (total 17 columns):\n",
            " #   Column                Non-Null Count  Dtype  \n",
            "---  ------                --------------  -----  \n",
            " 0   LTE/5g Category       31583 non-null  int64  \n",
            " 1   Time                  31583 non-null  int64  \n",
            " 2   Packet Loss Rate      31583 non-null  float64\n",
            " 3   Packet delay          31583 non-null  int64  \n",
            " 4   IoT                   31583 non-null  int64  \n",
            " 5   LTE/5G                31583 non-null  int64  \n",
            " 6   GBR                   31583 non-null  int64  \n",
            " 7   Non-GBR               31583 non-null  int64  \n",
            " 8   AR/VR/Gaming          31583 non-null  int64  \n",
            " 9   Healthcare            31583 non-null  int64  \n",
            " 10  Industry 4.0          31583 non-null  int64  \n",
            " 11  IoT Devices           31583 non-null  int64  \n",
            " 12  Public Safety         31583 non-null  int64  \n",
            " 13  Smart City & Home     31583 non-null  int64  \n",
            " 14  Smart Transportation  31583 non-null  int64  \n",
            " 15  Smartphone            31583 non-null  int64  \n",
            " 16  slice Type            31583 non-null  int64  \n",
            "dtypes: float64(1), int64(16)\n",
            "memory usage: 4.1 MB\n"
          ]
        }
      ]
    },
    {
      "cell_type": "code",
      "source": [
        "dset.describe()"
      ],
      "metadata": {
        "colab": {
          "base_uri": "https://localhost:8080/",
          "height": 382
        },
        "id": "KbukQVcbCxHx",
        "outputId": "bde707ef-a49c-4063-af16-8795dff3119c"
      },
      "execution_count": 5,
      "outputs": [
        {
          "output_type": "execute_result",
          "data": {
            "text/plain": [
              "       LTE/5g Category          Time  Packet Loss Rate  Packet delay  \\\n",
              "count     31583.000000  31583.000000      31583.000000  31583.000000   \n",
              "mean         10.974923     11.476459          0.003079    114.126745   \n",
              "std           6.053641      6.915643          0.004344    106.320976   \n",
              "min           1.000000      0.000000          0.000001     10.000000   \n",
              "25%           6.000000      6.000000          0.000001     50.000000   \n",
              "50%          11.000000     11.000000          0.001000     75.000000   \n",
              "75%          16.000000     17.000000          0.010000    150.000000   \n",
              "max          22.000000     23.000000          0.010000    300.000000   \n",
              "\n",
              "                IoT        LTE/5G           GBR       Non-GBR  AR/VR/Gaming  \\\n",
              "count  31583.000000  31583.000000  31583.000000  31583.000000  31583.000000   \n",
              "mean       0.468100      0.531900      0.441187      0.558813      0.106291   \n",
              "std        0.498989      0.498989      0.496537      0.496537      0.308215   \n",
              "min        0.000000      0.000000      0.000000      0.000000      0.000000   \n",
              "25%        0.000000      0.000000      0.000000      0.000000      0.000000   \n",
              "50%        0.000000      1.000000      0.000000      1.000000      0.000000   \n",
              "75%        1.000000      1.000000      1.000000      1.000000      0.000000   \n",
              "max        1.000000      1.000000      1.000000      1.000000      1.000000   \n",
              "\n",
              "         Healthcare  Industry 4.0   IoT Devices  Public Safety  \\\n",
              "count  31583.000000  31583.000000  31583.000000   31583.000000   \n",
              "mean       0.057943      0.116107      0.057879       0.059716   \n",
              "std        0.233639      0.320358      0.233519       0.236963   \n",
              "min        0.000000      0.000000      0.000000       0.000000   \n",
              "25%        0.000000      0.000000      0.000000       0.000000   \n",
              "50%        0.000000      0.000000      0.000000       0.000000   \n",
              "75%        0.000000      0.000000      0.000000       0.000000   \n",
              "max        1.000000      1.000000      1.000000       1.000000   \n",
              "\n",
              "       Smart City & Home  Smart Transportation    Smartphone    slice Type  \n",
              "count       31583.000000          31583.000000  31583.000000  31583.000000  \n",
              "mean            0.117722              0.058734      0.425609      1.702150  \n",
              "std             0.322283              0.235130      0.494443      0.822956  \n",
              "min             0.000000              0.000000      0.000000      1.000000  \n",
              "25%             0.000000              0.000000      0.000000      1.000000  \n",
              "50%             0.000000              0.000000      0.000000      1.000000  \n",
              "75%             0.000000              0.000000      1.000000      2.000000  \n",
              "max             1.000000              1.000000      1.000000      3.000000  "
            ],
            "text/html": [
              "\n",
              "  <div id=\"df-47be8986-eac9-4c49-9e67-f5dfb6ebfeac\">\n",
              "    <div class=\"colab-df-container\">\n",
              "      <div>\n",
              "<style scoped>\n",
              "    .dataframe tbody tr th:only-of-type {\n",
              "        vertical-align: middle;\n",
              "    }\n",
              "\n",
              "    .dataframe tbody tr th {\n",
              "        vertical-align: top;\n",
              "    }\n",
              "\n",
              "    .dataframe thead th {\n",
              "        text-align: right;\n",
              "    }\n",
              "</style>\n",
              "<table border=\"1\" class=\"dataframe\">\n",
              "  <thead>\n",
              "    <tr style=\"text-align: right;\">\n",
              "      <th></th>\n",
              "      <th>LTE/5g Category</th>\n",
              "      <th>Time</th>\n",
              "      <th>Packet Loss Rate</th>\n",
              "      <th>Packet delay</th>\n",
              "      <th>IoT</th>\n",
              "      <th>LTE/5G</th>\n",
              "      <th>GBR</th>\n",
              "      <th>Non-GBR</th>\n",
              "      <th>AR/VR/Gaming</th>\n",
              "      <th>Healthcare</th>\n",
              "      <th>Industry 4.0</th>\n",
              "      <th>IoT Devices</th>\n",
              "      <th>Public Safety</th>\n",
              "      <th>Smart City &amp; Home</th>\n",
              "      <th>Smart Transportation</th>\n",
              "      <th>Smartphone</th>\n",
              "      <th>slice Type</th>\n",
              "    </tr>\n",
              "  </thead>\n",
              "  <tbody>\n",
              "    <tr>\n",
              "      <th>count</th>\n",
              "      <td>31583.000000</td>\n",
              "      <td>31583.000000</td>\n",
              "      <td>31583.000000</td>\n",
              "      <td>31583.000000</td>\n",
              "      <td>31583.000000</td>\n",
              "      <td>31583.000000</td>\n",
              "      <td>31583.000000</td>\n",
              "      <td>31583.000000</td>\n",
              "      <td>31583.000000</td>\n",
              "      <td>31583.000000</td>\n",
              "      <td>31583.000000</td>\n",
              "      <td>31583.000000</td>\n",
              "      <td>31583.000000</td>\n",
              "      <td>31583.000000</td>\n",
              "      <td>31583.000000</td>\n",
              "      <td>31583.000000</td>\n",
              "      <td>31583.000000</td>\n",
              "    </tr>\n",
              "    <tr>\n",
              "      <th>mean</th>\n",
              "      <td>10.974923</td>\n",
              "      <td>11.476459</td>\n",
              "      <td>0.003079</td>\n",
              "      <td>114.126745</td>\n",
              "      <td>0.468100</td>\n",
              "      <td>0.531900</td>\n",
              "      <td>0.441187</td>\n",
              "      <td>0.558813</td>\n",
              "      <td>0.106291</td>\n",
              "      <td>0.057943</td>\n",
              "      <td>0.116107</td>\n",
              "      <td>0.057879</td>\n",
              "      <td>0.059716</td>\n",
              "      <td>0.117722</td>\n",
              "      <td>0.058734</td>\n",
              "      <td>0.425609</td>\n",
              "      <td>1.702150</td>\n",
              "    </tr>\n",
              "    <tr>\n",
              "      <th>std</th>\n",
              "      <td>6.053641</td>\n",
              "      <td>6.915643</td>\n",
              "      <td>0.004344</td>\n",
              "      <td>106.320976</td>\n",
              "      <td>0.498989</td>\n",
              "      <td>0.498989</td>\n",
              "      <td>0.496537</td>\n",
              "      <td>0.496537</td>\n",
              "      <td>0.308215</td>\n",
              "      <td>0.233639</td>\n",
              "      <td>0.320358</td>\n",
              "      <td>0.233519</td>\n",
              "      <td>0.236963</td>\n",
              "      <td>0.322283</td>\n",
              "      <td>0.235130</td>\n",
              "      <td>0.494443</td>\n",
              "      <td>0.822956</td>\n",
              "    </tr>\n",
              "    <tr>\n",
              "      <th>min</th>\n",
              "      <td>1.000000</td>\n",
              "      <td>0.000000</td>\n",
              "      <td>0.000001</td>\n",
              "      <td>10.000000</td>\n",
              "      <td>0.000000</td>\n",
              "      <td>0.000000</td>\n",
              "      <td>0.000000</td>\n",
              "      <td>0.000000</td>\n",
              "      <td>0.000000</td>\n",
              "      <td>0.000000</td>\n",
              "      <td>0.000000</td>\n",
              "      <td>0.000000</td>\n",
              "      <td>0.000000</td>\n",
              "      <td>0.000000</td>\n",
              "      <td>0.000000</td>\n",
              "      <td>0.000000</td>\n",
              "      <td>1.000000</td>\n",
              "    </tr>\n",
              "    <tr>\n",
              "      <th>25%</th>\n",
              "      <td>6.000000</td>\n",
              "      <td>6.000000</td>\n",
              "      <td>0.000001</td>\n",
              "      <td>50.000000</td>\n",
              "      <td>0.000000</td>\n",
              "      <td>0.000000</td>\n",
              "      <td>0.000000</td>\n",
              "      <td>0.000000</td>\n",
              "      <td>0.000000</td>\n",
              "      <td>0.000000</td>\n",
              "      <td>0.000000</td>\n",
              "      <td>0.000000</td>\n",
              "      <td>0.000000</td>\n",
              "      <td>0.000000</td>\n",
              "      <td>0.000000</td>\n",
              "      <td>0.000000</td>\n",
              "      <td>1.000000</td>\n",
              "    </tr>\n",
              "    <tr>\n",
              "      <th>50%</th>\n",
              "      <td>11.000000</td>\n",
              "      <td>11.000000</td>\n",
              "      <td>0.001000</td>\n",
              "      <td>75.000000</td>\n",
              "      <td>0.000000</td>\n",
              "      <td>1.000000</td>\n",
              "      <td>0.000000</td>\n",
              "      <td>1.000000</td>\n",
              "      <td>0.000000</td>\n",
              "      <td>0.000000</td>\n",
              "      <td>0.000000</td>\n",
              "      <td>0.000000</td>\n",
              "      <td>0.000000</td>\n",
              "      <td>0.000000</td>\n",
              "      <td>0.000000</td>\n",
              "      <td>0.000000</td>\n",
              "      <td>1.000000</td>\n",
              "    </tr>\n",
              "    <tr>\n",
              "      <th>75%</th>\n",
              "      <td>16.000000</td>\n",
              "      <td>17.000000</td>\n",
              "      <td>0.010000</td>\n",
              "      <td>150.000000</td>\n",
              "      <td>1.000000</td>\n",
              "      <td>1.000000</td>\n",
              "      <td>1.000000</td>\n",
              "      <td>1.000000</td>\n",
              "      <td>0.000000</td>\n",
              "      <td>0.000000</td>\n",
              "      <td>0.000000</td>\n",
              "      <td>0.000000</td>\n",
              "      <td>0.000000</td>\n",
              "      <td>0.000000</td>\n",
              "      <td>0.000000</td>\n",
              "      <td>1.000000</td>\n",
              "      <td>2.000000</td>\n",
              "    </tr>\n",
              "    <tr>\n",
              "      <th>max</th>\n",
              "      <td>22.000000</td>\n",
              "      <td>23.000000</td>\n",
              "      <td>0.010000</td>\n",
              "      <td>300.000000</td>\n",
              "      <td>1.000000</td>\n",
              "      <td>1.000000</td>\n",
              "      <td>1.000000</td>\n",
              "      <td>1.000000</td>\n",
              "      <td>1.000000</td>\n",
              "      <td>1.000000</td>\n",
              "      <td>1.000000</td>\n",
              "      <td>1.000000</td>\n",
              "      <td>1.000000</td>\n",
              "      <td>1.000000</td>\n",
              "      <td>1.000000</td>\n",
              "      <td>1.000000</td>\n",
              "      <td>3.000000</td>\n",
              "    </tr>\n",
              "  </tbody>\n",
              "</table>\n",
              "</div>\n",
              "      <button class=\"colab-df-convert\" onclick=\"convertToInteractive('df-47be8986-eac9-4c49-9e67-f5dfb6ebfeac')\"\n",
              "              title=\"Convert this dataframe to an interactive table.\"\n",
              "              style=\"display:none;\">\n",
              "        \n",
              "  <svg xmlns=\"http://www.w3.org/2000/svg\" height=\"24px\"viewBox=\"0 0 24 24\"\n",
              "       width=\"24px\">\n",
              "    <path d=\"M0 0h24v24H0V0z\" fill=\"none\"/>\n",
              "    <path d=\"M18.56 5.44l.94 2.06.94-2.06 2.06-.94-2.06-.94-.94-2.06-.94 2.06-2.06.94zm-11 1L8.5 8.5l.94-2.06 2.06-.94-2.06-.94L8.5 2.5l-.94 2.06-2.06.94zm10 10l.94 2.06.94-2.06 2.06-.94-2.06-.94-.94-2.06-.94 2.06-2.06.94z\"/><path d=\"M17.41 7.96l-1.37-1.37c-.4-.4-.92-.59-1.43-.59-.52 0-1.04.2-1.43.59L10.3 9.45l-7.72 7.72c-.78.78-.78 2.05 0 2.83L4 21.41c.39.39.9.59 1.41.59.51 0 1.02-.2 1.41-.59l7.78-7.78 2.81-2.81c.8-.78.8-2.07 0-2.86zM5.41 20L4 18.59l7.72-7.72 1.47 1.35L5.41 20z\"/>\n",
              "  </svg>\n",
              "      </button>\n",
              "      \n",
              "  <style>\n",
              "    .colab-df-container {\n",
              "      display:flex;\n",
              "      flex-wrap:wrap;\n",
              "      gap: 12px;\n",
              "    }\n",
              "\n",
              "    .colab-df-convert {\n",
              "      background-color: #E8F0FE;\n",
              "      border: none;\n",
              "      border-radius: 50%;\n",
              "      cursor: pointer;\n",
              "      display: none;\n",
              "      fill: #1967D2;\n",
              "      height: 32px;\n",
              "      padding: 0 0 0 0;\n",
              "      width: 32px;\n",
              "    }\n",
              "\n",
              "    .colab-df-convert:hover {\n",
              "      background-color: #E2EBFA;\n",
              "      box-shadow: 0px 1px 2px rgba(60, 64, 67, 0.3), 0px 1px 3px 1px rgba(60, 64, 67, 0.15);\n",
              "      fill: #174EA6;\n",
              "    }\n",
              "\n",
              "    [theme=dark] .colab-df-convert {\n",
              "      background-color: #3B4455;\n",
              "      fill: #D2E3FC;\n",
              "    }\n",
              "\n",
              "    [theme=dark] .colab-df-convert:hover {\n",
              "      background-color: #434B5C;\n",
              "      box-shadow: 0px 1px 3px 1px rgba(0, 0, 0, 0.15);\n",
              "      filter: drop-shadow(0px 1px 2px rgba(0, 0, 0, 0.3));\n",
              "      fill: #FFFFFF;\n",
              "    }\n",
              "  </style>\n",
              "\n",
              "      <script>\n",
              "        const buttonEl =\n",
              "          document.querySelector('#df-47be8986-eac9-4c49-9e67-f5dfb6ebfeac button.colab-df-convert');\n",
              "        buttonEl.style.display =\n",
              "          google.colab.kernel.accessAllowed ? 'block' : 'none';\n",
              "\n",
              "        async function convertToInteractive(key) {\n",
              "          const element = document.querySelector('#df-47be8986-eac9-4c49-9e67-f5dfb6ebfeac');\n",
              "          const dataTable =\n",
              "            await google.colab.kernel.invokeFunction('convertToInteractive',\n",
              "                                                     [key], {});\n",
              "          if (!dataTable) return;\n",
              "\n",
              "          const docLinkHtml = 'Like what you see? Visit the ' +\n",
              "            '<a target=\"_blank\" href=https://colab.research.google.com/notebooks/data_table.ipynb>data table notebook</a>'\n",
              "            + ' to learn more about interactive tables.';\n",
              "          element.innerHTML = '';\n",
              "          dataTable['output_type'] = 'display_data';\n",
              "          await google.colab.output.renderOutput(dataTable, element);\n",
              "          const docLink = document.createElement('div');\n",
              "          docLink.innerHTML = docLinkHtml;\n",
              "          element.appendChild(docLink);\n",
              "        }\n",
              "      </script>\n",
              "    </div>\n",
              "  </div>\n",
              "  "
            ]
          },
          "metadata": {},
          "execution_count": 5
        }
      ]
    },
    {
      "cell_type": "code",
      "source": [
        "dset.isnull().sum()"
      ],
      "metadata": {
        "colab": {
          "base_uri": "https://localhost:8080/"
        },
        "id": "7JmuiIVcGZch",
        "outputId": "7feb930b-5691-40cf-b540-87fc2221e701"
      },
      "execution_count": 9,
      "outputs": [
        {
          "output_type": "execute_result",
          "data": {
            "text/plain": [
              "LTE/5g Category         0\n",
              "Time                    0\n",
              "Packet Loss Rate        0\n",
              "Packet delay            0\n",
              "IoT                     0\n",
              "LTE/5G                  0\n",
              "GBR                     0\n",
              "Non-GBR                 0\n",
              "AR/VR/Gaming            0\n",
              "Healthcare              0\n",
              "Industry 4.0            0\n",
              "IoT Devices             0\n",
              "Public Safety           0\n",
              "Smart City & Home       0\n",
              "Smart Transportation    0\n",
              "Smartphone              0\n",
              "slice Type              0\n",
              "dtype: int64"
            ]
          },
          "metadata": {},
          "execution_count": 9
        }
      ]
    },
    {
      "cell_type": "code",
      "source": [
        "dset['slice Type'].unique()"
      ],
      "metadata": {
        "colab": {
          "base_uri": "https://localhost:8080/"
        },
        "id": "DCBxW_knTEPs",
        "outputId": "152a90d3-7101-4725-a6be-0bb729ff1252"
      },
      "execution_count": 10,
      "outputs": [
        {
          "output_type": "execute_result",
          "data": {
            "text/plain": [
              "array([3, 1, 2])"
            ]
          },
          "metadata": {},
          "execution_count": 10
        }
      ]
    },
    {
      "cell_type": "code",
      "source": [
        "dset.corrwith(dset['slice Type'])"
      ],
      "metadata": {
        "colab": {
          "base_uri": "https://localhost:8080/"
        },
        "id": "SU6vYpGHV51h",
        "outputId": "dcd28365-2b1b-44b3-ec61-ce56af6f830a"
      },
      "execution_count": 21,
      "outputs": [
        {
          "output_type": "execute_result",
          "data": {
            "text/plain": [
              "LTE/5g Category         0.076893\n",
              "Time                    0.001263\n",
              "Packet Loss Rate       -0.097135\n",
              "Packet delay           -0.396959\n",
              "IoT                     0.909506\n",
              "LTE/5G                 -0.909506\n",
              "GBR                    -0.331008\n",
              "Non-GBR                 0.331008\n",
              "AR/VR/Gaming           -0.294246\n",
              "Healthcare              0.391124\n",
              "Industry 4.0            0.349881\n",
              "IoT Devices             0.089709\n",
              "Public Safety           0.397438\n",
              "Smart City & Home       0.132207\n",
              "Smart Transportation    0.393952\n",
              "Smartphone             -0.734449\n",
              "slice Type              1.000000\n",
              "dtype: float64"
            ]
          },
          "metadata": {},
          "execution_count": 21
        }
      ]
    },
    {
      "cell_type": "code",
      "source": [
        "corrmat = dset.corr()\n",
        "f, ax = plt.subplots(figsize=(12,12))\n",
        "sns.heatmap(corrmat,vmax=.8,square=True,annot=True,fmt='.2f')\n",
        "plt.show()"
      ],
      "metadata": {
        "colab": {
          "base_uri": "https://localhost:8080/",
          "height": 751
        },
        "id": "HHTX-UcZTRvY",
        "outputId": "79dc2c14-34b4-470c-aeff-a8f68f4ddc3c"
      },
      "execution_count": 19,
      "outputs": [
        {
          "output_type": "display_data",
          "data": {
            "text/plain": [
              "<Figure size 864x864 with 2 Axes>"
            ],
            "image/png": "[encoded data removed]"
          },
          "metadata": {}
        }
      ]
    },
    {
      "cell_type": "code",
      "source": [
        "skew(dset['LTE/5g Category'])"
      ],
      "metadata": {
        "colab": {
          "base_uri": "https://localhost:8080/"
        },
        "id": "ivKt0o7YT3PH",
        "outputId": "6a770f74-30b1-499e-d6c4-b40e28c26ddf"
      },
      "execution_count": 14,
      "outputs": [
        {
          "output_type": "execute_result",
          "data": {
            "text/plain": [
              "0.02419255531792126"
            ]
          },
          "metadata": {},
          "execution_count": 14
        }
      ]
    },
    {
      "cell_type": "code",
      "source": [
        "kurtosis(dset['LTE/5g Category'])"
      ],
      "metadata": {
        "colab": {
          "base_uri": "https://localhost:8080/"
        },
        "id": "k6avsgr1UFF5",
        "outputId": "d14d161e-23c3-41cd-8285-5300c49fadc3"
      },
      "execution_count": 15,
      "outputs": [
        {
          "output_type": "execute_result",
          "data": {
            "text/plain": [
              "-1.1616092550147963"
            ]
          },
          "metadata": {},
          "execution_count": 15
        }
      ]
    },
    {
      "cell_type": "code",
      "source": [
        "def plotchart(col_name):\n",
        "    fig, (ax1,ax2) =plt.subplots(1,2,figsize=(12,10))\n",
        "    sns.boxplot(col_name, orient='h',ax=ax1, color = 'orange',  palette= 'pastel')\n",
        "    ax1.set_ylabel=col_name.name\n",
        "    ax1.set_title('Box plot of {}'.format(col_name.name))\n",
        "    sns.distplot(col_name,ax=ax2, color= 'red') \n",
        "    ax2.set_title('Distribution plot of {}'.format(col_name.name))\n",
        "plotchart(dset['LTE/5g Category'])"
      ],
      "metadata": {
        "colab": {
          "base_uri": "https://localhost:8080/",
          "height": 716
        },
        "id": "M646ukSkUJB-",
        "outputId": "f7183981-6b36-4578-8a44-7af6cf2b8db7"
      },
      "execution_count": 16,
      "outputs": [
        {
          "output_type": "stream",
          "name": "stderr",
          "text": [
            "/usr/local/lib/python3.7/dist-packages/seaborn/_decorators.py:43: FutureWarning: Pass the following variable as a keyword arg: x. From version 0.12, the only valid positional argument will be `data`, and passing other arguments without an explicit keyword will result in an error or misinterpretation.\n",
            "  FutureWarning\n",
            "/usr/local/lib/python3.7/dist-packages/seaborn/distributions.py:2619: FutureWarning: `distplot` is a deprecated function and will be removed in a future version. Please adapt your code to use either `displot` (a figure-level function with similar flexibility) or `histplot` (an axes-level function for histograms).\n",
            "  warnings.warn(msg, FutureWarning)\n"
          ]
        },
        {
          "output_type": "display_data",
          "data": {
            "text/plain": [
              "<Figure size 864x720 with 2 Axes>"
            ],
            "image/png": "[encoded data removed]"
          },
          "metadata": {}
        }
      ]
    },
    {
      "cell_type": "code",
      "source": [
        "X = dset.iloc[:,[4,5,15,3,9,12,14]]\n",
        "y = dset['slice Type']"
      ],
      "metadata": {
        "id": "JlBYjarzV1iV"
      },
      "execution_count": 22,
      "outputs": []
    },
    {
      "cell_type": "markdown",
      "source": [
        "# **Splitting of data into training and testing sets**"
      ],
      "metadata": {
        "id": "3UI2Bj-kcdRd"
      }
    },
    {
      "cell_type": "code",
      "source": [
        "from sklearn.model_selection import train_test_split"
      ],
      "metadata": {
        "id": "da2Vui5PURwK"
      },
      "execution_count": 23,
      "outputs": []
    },
    {
      "cell_type": "code",
      "source": [
        "X_train, X_test, y_train, y_test = train_test_split(X,y,test_size=0.2,random_state=10)"
      ],
      "metadata": {
        "id": "Ey6YZqLXVwqS"
      },
      "execution_count": 24,
      "outputs": []
    },
    {
      "cell_type": "code",
      "source": [
        "print(X_train.shape)\n",
        "print(X_test.shape)\n",
        "print(y_train.shape)\n",
        "print(y_test.shape)"
      ],
      "metadata": {
        "colab": {
          "base_uri": "https://localhost:8080/"
        },
        "id": "wade27V5Wjih",
        "outputId": "cec99c92-68c0-4d74-ac74-aceff900a7a9"
      },
      "execution_count": 26,
      "outputs": [
        {
          "output_type": "stream",
          "name": "stdout",
          "text": [
            "(25266, 7)\n",
            "(6317, 7)\n",
            "(25266,)\n",
            "(6317,)\n"
          ]
        }
      ]
    },
    {
      "cell_type": "markdown",
      "source": [
        "# **Training the model on various ML Algorithms**"
      ],
      "metadata": {
        "id": "rWq6IaNecVB1"
      }
    },
    {
      "cell_type": "code",
      "source": [
        "from sklearn.discriminant_analysis import LinearDiscriminantAnalysis\n",
        "from sklearn.linear_model import LogisticRegression\n",
        "from sklearn.neighbors import KNeighborsClassifier\n",
        "from sklearn.tree import DecisionTreeClassifier\n",
        "from sklearn.ensemble import RandomForestClassifier\n",
        "from sklearn.naive_bayes import BernoulliNB, GaussianNB\n",
        "from sklearn.svm import SVC\n",
        "from sklearn.model_selection import KFold, StratifiedKFold, cross_val_score\n",
        "from sklearn.metrics import accuracy_score, confusion_matrix, classification_report, roc_auc_score, roc_curve\n",
        "from sklearn.preprocessing import StandardScaler"
      ],
      "metadata": {
        "id": "ztcPL4w_Wphv"
      },
      "execution_count": 49,
      "outputs": []
    },
    {
      "cell_type": "code",
      "source": [
        "sc = StandardScaler()\n",
        "X_train = sc.fit_transform(X_train) \n",
        "X_test = sc.transform(X_test)"
      ],
      "metadata": {
        "id": "Feh4HfjTW2ti"
      },
      "execution_count": 50,
      "outputs": []
    },
    {
      "cell_type": "code",
      "source": [
        "models = []\n",
        "models.append(('LR',LogisticRegression(solver='liblinear',multi_class='ovr')))\n",
        "models.append(('LDA',LinearDiscriminantAnalysis(solver='svd')))\n",
        "models.append(('KNN',KNeighborsClassifier(n_neighbors=10,metric='minkowski')))\n",
        "models.append(('DT',DecisionTreeClassifier(criterion='gini')))\n",
        "models.append(('RF',RandomForestClassifier(n_estimators=200,criterion='gini',max_depth=None)))\n",
        "models.append(('SVM',SVC(C=1.0,kernel='rbf',degree=3,gamma='auto')))\n",
        "models.append(('BNB',BernoulliNB()))\n",
        "models.append(('GNB',GaussianNB()))"
      ],
      "metadata": {
        "id": "56yLAvGaXD10"
      },
      "execution_count": 51,
      "outputs": []
    },
    {
      "cell_type": "code",
      "source": [
        "cvresults = []\n",
        "names = []\n",
        "res = []\n",
        "for name, model in models:\n",
        "    skf = StratifiedKFold(n_splits=10)\n",
        "    cvres = cross_val_score(model,X_train,y_train,cv=skf,scoring='accuracy')\n",
        "    cvresults.append(cvres)\n",
        "    names.append(name)\n",
        "    res.append(cvres.mean())\n",
        "    print(\"Name:\",name,\" Mean cross val res:\",cvres.mean())\n",
        "plt.ylim(.900, .999)\n",
        "plt.bar(names, res, color ='maroon', width = 0.6)\n",
        "\n",
        "plt.title('Algorithm Comparison')\n",
        "plt.show()"
      ],
      "metadata": {
        "colab": {
          "base_uri": "https://localhost:8080/",
          "height": 423
        },
        "id": "UUgUHSk3XOE9",
        "outputId": "e22883d2-180a-41c5-f483-eb42dedd9279"
      },
      "execution_count": 52,
      "outputs": [
        {
          "output_type": "stream",
          "name": "stdout",
          "text": [
            "Name: LR  Mean cross val res: 1.0\n",
            "Name: LDA  Mean cross val res: 0.7645452392075326\n",
            "Name: KNN  Mean cross val res: 1.0\n",
            "Name: DT  Mean cross val res: 1.0\n",
            "Name: RF  Mean cross val res: 1.0\n",
            "Name: SVM  Mean cross val res: 1.0\n",
            "Name: BNB  Mean cross val res: 0.9424522990185803\n",
            "Name: GNB  Mean cross val res: 0.9424522990185803\n"
          ]
        },
        {
          "output_type": "display_data",
          "data": {
            "text/plain": [
              "<Figure size 432x288 with 1 Axes>"
            ],
            "image/png": "[encoded data removed]"
          },
          "metadata": {}
        }
      ]
    },
    {
      "cell_type": "code",
      "source": [
        "model = RandomForestClassifier(n_estimators=200,criterion='gini',max_depth=None)\n",
        "model.fit(X_train, y_train)\n",
        "y_pred = model.predict(X_test)\n",
        "accuracy_score(y_test,y_pred)"
      ],
      "metadata": {
        "colab": {
          "base_uri": "https://localhost:8080/"
        },
        "id": "WkR5m7H7XQ7Z",
        "outputId": "99b7cdf7-8f27-4960-f265-9c0d2023ea69"
      },
      "execution_count": 53,
      "outputs": [
        {
          "output_type": "execute_result",
          "data": {
            "text/plain": [
              "1.0"
            ]
          },
          "metadata": {},
          "execution_count": 53
        }
      ]
    },
    {
      "cell_type": "code",
      "source": [
        "confusion_matrix(y_test,y_pred)"
      ],
      "metadata": {
        "colab": {
          "base_uri": "https://localhost:8080/"
        },
        "id": "Vqs8Fq7TXc5B",
        "outputId": "dd01c120-2c3a-4c6c-e8e4-0a933dba6bc2"
      },
      "execution_count": 54,
      "outputs": [
        {
          "output_type": "execute_result",
          "data": {
            "text/plain": [
              "array([[3380,    0,    0],\n",
              "       [   0, 1494,    0],\n",
              "       [   0,    0, 1443]])"
            ]
          },
          "metadata": {},
          "execution_count": 54
        }
      ]
    },
    {
      "cell_type": "code",
      "source": [
        "print(classification_report(y_test,y_pred))"
      ],
      "metadata": {
        "colab": {
          "base_uri": "https://localhost:8080/"
        },
        "id": "tfNYvKe1XmN-",
        "outputId": "0e4f5f9c-99a6-4202-b376-3c7d9478635b"
      },
      "execution_count": 55,
      "outputs": [
        {
          "output_type": "stream",
          "name": "stdout",
          "text": [
            "              precision    recall  f1-score   support\n",
            "\n",
            "           1       1.00      1.00      1.00      3380\n",
            "           2       1.00      1.00      1.00      1494\n",
            "           3       1.00      1.00      1.00      1443\n",
            "\n",
            "    accuracy                           1.00      6317\n",
            "   macro avg       1.00      1.00      1.00      6317\n",
            "weighted avg       1.00      1.00      1.00      6317\n",
            "\n"
          ]
        }
      ]
    },
    {
      "cell_type": "markdown",
      "source": [
        "# **Testing on New data**"
      ],
      "metadata": {
        "id": "nt1zLhCucNyq"
      }
    },
    {
      "cell_type": "code",
      "source": [
        "new_data = pd.read_csv('/content/test_dataset.csv')\n",
        "new_data"
      ],
      "metadata": {
        "colab": {
          "base_uri": "https://localhost:8080/",
          "height": 540
        },
        "id": "ILMI-eQgYLW4",
        "outputId": "c37afe77-b194-4202-8df7-1fcbef7b3bb7"
      },
      "execution_count": 40,
      "outputs": [
        {
          "output_type": "execute_result",
          "data": {
            "text/plain": [
              "       LTE/5g Category  Time  Packet Loss Rate  Packet delay  IoT  LTE/5G  \\\n",
              "0                   15    17          0.001000           100    0       1   \n",
              "1                   14    18          0.000001            10    1       0   \n",
              "2                   11     7          0.001000            50    1       0   \n",
              "3                   20    14          0.001000            50    1       0   \n",
              "4                    2    22          0.001000            50    0       1   \n",
              "...                ...   ...               ...           ...  ...     ...   \n",
              "31579                9    22          0.000001            10    1       0   \n",
              "31580               20     9          0.000001            10    1       0   \n",
              "31581                8     0          0.000001            10    1       0   \n",
              "31582               13    11          0.010000            75    0       1   \n",
              "31583                8    15          0.000001            10    1       0   \n",
              "\n",
              "       GBR  Non-GBR  AR/VR/Gaming  Healthcare  Industry 4.0  IoT Devices  \\\n",
              "0        1        0             1           0             0            0   \n",
              "1        0        1             0           0             0            0   \n",
              "2        1        0             0           0             1            0   \n",
              "3        1        0             0           0             1            0   \n",
              "4        0        1             1           0             0            0   \n",
              "...    ...      ...           ...         ...           ...          ...   \n",
              "31579    0        1             0           0             0            0   \n",
              "31580    0        1             0           0             1            0   \n",
              "31581    0        1             0           0             1            0   \n",
              "31582    0        1             0           0             0            0   \n",
              "31583    0        1             0           0             1            0   \n",
              "\n",
              "       Public Safety  Smart City & Home  Smart Transportation  Smartphone  \n",
              "0                  0                  0                     0           0  \n",
              "1                  0                  0                     1           0  \n",
              "2                  0                  0                     0           0  \n",
              "3                  0                  0                     0           0  \n",
              "4                  0                  0                     0           0  \n",
              "...              ...                ...                   ...         ...  \n",
              "31579              0                  0                     1           0  \n",
              "31580              0                  0                     0           0  \n",
              "31581              0                  0                     0           0  \n",
              "31582              0                  0                     0           1  \n",
              "31583              0                  0                     0           0  \n",
              "\n",
              "[31584 rows x 16 columns]"
            ],
            "text/html": [
              "\n",
              "  <div id=\"df-fb8b488a-4fae-452a-a0dd-a84c40a4cfa9\">\n",
              "    <div class=\"colab-df-container\">\n",
              "      <div>\n",
              "<style scoped>\n",
              "    .dataframe tbody tr th:only-of-type {\n",
              "        vertical-align: middle;\n",
              "    }\n",
              "\n",
              "    .dataframe tbody tr th {\n",
              "        vertical-align: top;\n",
              "    }\n",
              "\n",
              "    .dataframe thead th {\n",
              "        text-align: right;\n",
              "    }\n",
              "</style>\n",
              "<table border=\"1\" class=\"dataframe\">\n",
              "  <thead>\n",
              "    <tr style=\"text-align: right;\">\n",
              "      <th></th>\n",
              "      <th>LTE/5g Category</th>\n",
              "      <th>Time</th>\n",
              "      <th>Packet Loss Rate</th>\n",
              "      <th>Packet delay</th>\n",
              "      <th>IoT</th>\n",
              "      <th>LTE/5G</th>\n",
              "      <th>GBR</th>\n",
              "      <th>Non-GBR</th>\n",
              "      <th>AR/VR/Gaming</th>\n",
              "      <th>Healthcare</th>\n",
              "      <th>Industry 4.0</th>\n",
              "      <th>IoT Devices</th>\n",
              "      <th>Public Safety</th>\n",
              "      <th>Smart City &amp; Home</th>\n",
              "      <th>Smart Transportation</th>\n",
              "      <th>Smartphone</th>\n",
              "    </tr>\n",
              "  </thead>\n",
              "  <tbody>\n",
              "    <tr>\n",
              "      <th>0</th>\n",
              "      <td>15</td>\n",
              "      <td>17</td>\n",
              "      <td>0.001000</td>\n",
              "      <td>100</td>\n",
              "      <td>0</td>\n",
              "      <td>1</td>\n",
              "      <td>1</td>\n",
              "      <td>0</td>\n",
              "      <td>1</td>\n",
              "      <td>0</td>\n",
              "      <td>0</td>\n",
              "      <td>0</td>\n",
              "      <td>0</td>\n",
              "      <td>0</td>\n",
              "      <td>0</td>\n",
              "      <td>0</td>\n",
              "    </tr>\n",
              "    <tr>\n",
              "      <th>1</th>\n",
              "      <td>14</td>\n",
              "      <td>18</td>\n",
              "      <td>0.000001</td>\n",
              "      <td>10</td>\n",
              "      <td>1</td>\n",
              "      <td>0</td>\n",
              "      <td>0</td>\n",
              "      <td>1</td>\n",
              "      <td>0</td>\n",
              "      <td>0</td>\n",
              "      <td>0</td>\n",
              "      <td>0</td>\n",
              "      <td>0</td>\n",
              "      <td>0</td>\n",
              "      <td>1</td>\n",
              "      <td>0</td>\n",
              "    </tr>\n",
              "    <tr>\n",
              "      <th>2</th>\n",
              "      <td>11</td>\n",
              "      <td>7</td>\n",
              "      <td>0.001000</td>\n",
              "      <td>50</td>\n",
              "      <td>1</td>\n",
              "      <td>0</td>\n",
              "      <td>1</td>\n",
              "      <td>0</td>\n",
              "      <td>0</td>\n",
              "      <td>0</td>\n",
              "      <td>1</td>\n",
              "      <td>0</td>\n",
              "      <td>0</td>\n",
              "      <td>0</td>\n",
              "      <td>0</td>\n",
              "      <td>0</td>\n",
              "    </tr>\n",
              "    <tr>\n",
              "      <th>3</th>\n",
              "      <td>20</td>\n",
              "      <td>14</td>\n",
              "      <td>0.001000</td>\n",
              "      <td>50</td>\n",
              "      <td>1</td>\n",
              "      <td>0</td>\n",
              "      <td>1</td>\n",
              "      <td>0</td>\n",
              "      <td>0</td>\n",
              "      <td>0</td>\n",
              "      <td>1</td>\n",
              "      <td>0</td>\n",
              "      <td>0</td>\n",
              "      <td>0</td>\n",
              "      <td>0</td>\n",
              "      <td>0</td>\n",
              "    </tr>\n",
              "    <tr>\n",
              "      <th>4</th>\n",
              "      <td>2</td>\n",
              "      <td>22</td>\n",
              "      <td>0.001000</td>\n",
              "      <td>50</td>\n",
              "      <td>0</td>\n",
              "      <td>1</td>\n",
              "      <td>0</td>\n",
              "      <td>1</td>\n",
              "      <td>1</td>\n",
              "      <td>0</td>\n",
              "      <td>0</td>\n",
              "      <td>0</td>\n",
              "      <td>0</td>\n",
              "      <td>0</td>\n",
              "      <td>0</td>\n",
              "      <td>0</td>\n",
              "    </tr>\n",
              "    <tr>\n",
              "      <th>...</th>\n",
              "      <td>...</td>\n",
              "      <td>...</td>\n",
              "      <td>...</td>\n",
              "      <td>...</td>\n",
              "      <td>...</td>\n",
              "      <td>...</td>\n",
              "      <td>...</td>\n",
              "      <td>...</td>\n",
              "      <td>...</td>\n",
              "      <td>...</td>\n",
              "      <td>...</td>\n",
              "      <td>...</td>\n",
              "      <td>...</td>\n",
              "      <td>...</td>\n",
              "      <td>...</td>\n",
              "      <td>...</td>\n",
              "    </tr>\n",
              "    <tr>\n",
              "      <th>31579</th>\n",
              "      <td>9</td>\n",
              "      <td>22</td>\n",
              "      <td>0.000001</td>\n",
              "      <td>10</td>\n",
              "      <td>1</td>\n",
              "      <td>0</td>\n",
              "      <td>0</td>\n",
              "      <td>1</td>\n",
              "      <td>0</td>\n",
              "      <td>0</td>\n",
              "      <td>0</td>\n",
              "      <td>0</td>\n",
              "      <td>0</td>\n",
              "      <td>0</td>\n",
              "      <td>1</td>\n",
              "      <td>0</td>\n",
              "    </tr>\n",
              "    <tr>\n",
              "      <th>31580</th>\n",
              "      <td>20</td>\n",
              "      <td>9</td>\n",
              "      <td>0.000001</td>\n",
              "      <td>10</td>\n",
              "      <td>1</td>\n",
              "      <td>0</td>\n",
              "      <td>0</td>\n",
              "      <td>1</td>\n",
              "      <td>0</td>\n",
              "      <td>0</td>\n",
              "      <td>1</td>\n",
              "      <td>0</td>\n",
              "      <td>0</td>\n",
              "      <td>0</td>\n",
              "      <td>0</td>\n",
              "      <td>0</td>\n",
              "    </tr>\n",
              "    <tr>\n",
              "      <th>31581</th>\n",
              "      <td>8</td>\n",
              "      <td>0</td>\n",
              "      <td>0.000001</td>\n",
              "      <td>10</td>\n",
              "      <td>1</td>\n",
              "      <td>0</td>\n",
              "      <td>0</td>\n",
              "      <td>1</td>\n",
              "      <td>0</td>\n",
              "      <td>0</td>\n",
              "      <td>1</td>\n",
              "      <td>0</td>\n",
              "      <td>0</td>\n",
              "      <td>0</td>\n",
              "      <td>0</td>\n",
              "      <td>0</td>\n",
              "    </tr>\n",
              "    <tr>\n",
              "      <th>31582</th>\n",
              "      <td>13</td>\n",
              "      <td>11</td>\n",
              "      <td>0.010000</td>\n",
              "      <td>75</td>\n",
              "      <td>0</td>\n",
              "      <td>1</td>\n",
              "      <td>0</td>\n",
              "      <td>1</td>\n",
              "      <td>0</td>\n",
              "      <td>0</td>\n",
              "      <td>0</td>\n",
              "      <td>0</td>\n",
              "      <td>0</td>\n",
              "      <td>0</td>\n",
              "      <td>0</td>\n",
              "      <td>1</td>\n",
              "    </tr>\n",
              "    <tr>\n",
              "      <th>31583</th>\n",
              "      <td>8</td>\n",
              "      <td>15</td>\n",
              "      <td>0.000001</td>\n",
              "      <td>10</td>\n",
              "      <td>1</td>\n",
              "      <td>0</td>\n",
              "      <td>0</td>\n",
              "      <td>1</td>\n",
              "      <td>0</td>\n",
              "      <td>0</td>\n",
              "      <td>1</td>\n",
              "      <td>0</td>\n",
              "      <td>0</td>\n",
              "      <td>0</td>\n",
              "      <td>0</td>\n",
              "      <td>0</td>\n",
              "    </tr>\n",
              "  </tbody>\n",
              "</table>\n",
              "<p>31584 rows × 16 columns</p>\n",
              "</div>\n",
              "      <button class=\"colab-df-convert\" onclick=\"convertToInteractive('df-fb8b488a-4fae-452a-a0dd-a84c40a4cfa9')\"\n",
              "              title=\"Convert this dataframe to an interactive table.\"\n",
              "              style=\"display:none;\">\n",
              "        \n",
              "  <svg xmlns=\"http://www.w3.org/2000/svg\" height=\"24px\"viewBox=\"0 0 24 24\"\n",
              "       width=\"24px\">\n",
              "    <path d=\"M0 0h24v24H0V0z\" fill=\"none\"/>\n",
              "    <path d=\"M18.56 5.44l.94 2.06.94-2.06 2.06-.94-2.06-.94-.94-2.06-.94 2.06-2.06.94zm-11 1L8.5 8.5l.94-2.06 2.06-.94-2.06-.94L8.5 2.5l-.94 2.06-2.06.94zm10 10l.94 2.06.94-2.06 2.06-.94-2.06-.94-.94-2.06-.94 2.06-2.06.94z\"/><path d=\"M17.41 7.96l-1.37-1.37c-.4-.4-.92-.59-1.43-.59-.52 0-1.04.2-1.43.59L10.3 9.45l-7.72 7.72c-.78.78-.78 2.05 0 2.83L4 21.41c.39.39.9.59 1.41.59.51 0 1.02-.2 1.41-.59l7.78-7.78 2.81-2.81c.8-.78.8-2.07 0-2.86zM5.41 20L4 18.59l7.72-7.72 1.47 1.35L5.41 20z\"/>\n",
              "  </svg>\n",
              "      </button>\n",
              "      \n",
              "  <style>\n",
              "    .colab-df-container {\n",
              "      display:flex;\n",
              "      flex-wrap:wrap;\n",
              "      gap: 12px;\n",
              "    }\n",
              "\n",
              "    .colab-df-convert {\n",
              "      background-color: #E8F0FE;\n",
              "      border: none;\n",
              "      border-radius: 50%;\n",
              "      cursor: pointer;\n",
              "      display: none;\n",
              "      fill: #1967D2;\n",
              "      height: 32px;\n",
              "      padding: 0 0 0 0;\n",
              "      width: 32px;\n",
              "    }\n",
              "\n",
              "    .colab-df-convert:hover {\n",
              "      background-color: #E2EBFA;\n",
              "      box-shadow: 0px 1px 2px rgba(60, 64, 67, 0.3), 0px 1px 3px 1px rgba(60, 64, 67, 0.15);\n",
              "      fill: #174EA6;\n",
              "    }\n",
              "\n",
              "    [theme=dark] .colab-df-convert {\n",
              "      background-color: #3B4455;\n",
              "      fill: #D2E3FC;\n",
              "    }\n",
              "\n",
              "    [theme=dark] .colab-df-convert:hover {\n",
              "      background-color: #434B5C;\n",
              "      box-shadow: 0px 1px 3px 1px rgba(0, 0, 0, 0.15);\n",
              "      filter: drop-shadow(0px 1px 2px rgba(0, 0, 0, 0.3));\n",
              "      fill: #FFFFFF;\n",
              "    }\n",
              "  </style>\n",
              "\n",
              "      <script>\n",
              "        const buttonEl =\n",
              "          document.querySelector('#df-fb8b488a-4fae-452a-a0dd-a84c40a4cfa9 button.colab-df-convert');\n",
              "        buttonEl.style.display =\n",
              "          google.colab.kernel.accessAllowed ? 'block' : 'none';\n",
              "\n",
              "        async function convertToInteractive(key) {\n",
              "          const element = document.querySelector('#df-fb8b488a-4fae-452a-a0dd-a84c40a4cfa9');\n",
              "          const dataTable =\n",
              "            await google.colab.kernel.invokeFunction('convertToInteractive',\n",
              "                                                     [key], {});\n",
              "          if (!dataTable) return;\n",
              "\n",
              "          const docLinkHtml = 'Like what you see? Visit the ' +\n",
              "            '<a target=\"_blank\" href=https://colab.research.google.com/notebooks/data_table.ipynb>data table notebook</a>'\n",
              "            + ' to learn more about interactive tables.';\n",
              "          element.innerHTML = '';\n",
              "          dataTable['output_type'] = 'display_data';\n",
              "          await google.colab.output.renderOutput(dataTable, element);\n",
              "          const docLink = document.createElement('div');\n",
              "          docLink.innerHTML = docLinkHtml;\n",
              "          element.appendChild(docLink);\n",
              "        }\n",
              "      </script>\n",
              "    </div>\n",
              "  </div>\n",
              "  "
            ]
          },
          "metadata": {},
          "execution_count": 40
        }
      ]
    },
    {
      "cell_type": "code",
      "source": [
        "X = new_data.iloc[:,[4,5,15,3,9,12,14]]\n",
        "preds = model.predict(X)"
      ],
      "metadata": {
        "colab": {
          "base_uri": "https://localhost:8080/"
        },
        "id": "_f_0CF5_YSFz",
        "outputId": "16708638-5c19-4c7c-935b-c16f29261f14"
      },
      "execution_count": 43,
      "outputs": [
        {
          "output_type": "stream",
          "name": "stderr",
          "text": [
            "/usr/local/lib/python3.7/dist-packages/sklearn/base.py:444: UserWarning: X has feature names, but RandomForestClassifier was fitted without feature names\n",
            "  f\"X has feature names, but {self.__class__.__name__} was fitted without\"\n"
          ]
        }
      ]
    },
    {
      "cell_type": "code",
      "source": [
        "X.iloc[0]"
      ],
      "metadata": {
        "colab": {
          "base_uri": "https://localhost:8080/"
        },
        "id": "-V-UOa_jYhfl",
        "outputId": "431fe55c-e12a-42e9-fd87-77c6c597c5e4"
      },
      "execution_count": 47,
      "outputs": [
        {
          "output_type": "execute_result",
          "data": {
            "text/plain": [
              "IoT                       0\n",
              "LTE/5G                    1\n",
              "Smartphone                0\n",
              "Packet delay            100\n",
              "Healthcare                0\n",
              "Public Safety             0\n",
              "Smart Transportation      0\n",
              "Name: 0, dtype: int64"
            ]
          },
          "metadata": {},
          "execution_count": 47
        }
      ]
    },
    {
      "cell_type": "code",
      "source": [
        "preds[0] #predicted to belong to Slice 1 based on the given usage and delay in packet delivery to destination node"
      ],
      "metadata": {
        "colab": {
          "base_uri": "https://localhost:8080/"
        },
        "id": "BVm8R0F1Ysc7",
        "outputId": "0b231c4a-352f-46d7-bc56-563f328553e4"
      },
      "execution_count": 48,
      "outputs": [
        {
          "output_type": "execute_result",
          "data": {
            "text/plain": [
              "1"
            ]
          },
          "metadata": {},
          "execution_count": 48
        }
      ]
    }
  ]
}